{
 "cells": [
  {
   "cell_type": "code",
   "execution_count": 3,
   "metadata": {},
   "outputs": [],
   "source": [
    "import pandas as pd\n",
    "import json\n",
    "import os\n"
   ]
  },
  {
   "cell_type": "code",
   "execution_count": 11,
   "metadata": {},
   "outputs": [],
   "source": [
    "file_path=\"./Data/TSLA_US_Equity_2011_2021.csv\""
   ]
  },
  {
   "cell_type": "code",
   "execution_count": 12,
   "metadata": {},
   "outputs": [],
   "source": [
    "tesla_dataframe=pd.read_csv(file_path)"
   ]
  },
  {
   "cell_type": "code",
   "execution_count": 13,
   "metadata": {},
   "outputs": [
    {
     "data": {
      "text/html": "<div>\n<style scoped>\n    .dataframe tbody tr th:only-of-type {\n        vertical-align: middle;\n    }\n\n    .dataframe tbody tr th {\n        vertical-align: top;\n    }\n\n    .dataframe thead th {\n        text-align: right;\n    }\n</style>\n<table border=\"1\" class=\"dataframe\">\n  <thead>\n    <tr style=\"text-align: right;\">\n      <th></th>\n      <th>Date</th>\n      <th>Last Price</th>\n      <th>Volume</th>\n    </tr>\n  </thead>\n  <tbody>\n    <tr>\n      <th>0</th>\n      <td>3/09/2021</td>\n      <td>733.57</td>\n      <td>15,271,045.00</td>\n    </tr>\n    <tr>\n      <th>1</th>\n      <td>2/09/2021</td>\n      <td>732.39</td>\n      <td>12,796,739.00</td>\n    </tr>\n    <tr>\n      <th>2</th>\n      <td>1/09/2021</td>\n      <td>734.09</td>\n      <td>13,204,335.00</td>\n    </tr>\n    <tr>\n      <th>3</th>\n      <td>31/08/2021</td>\n      <td>735.72</td>\n      <td>20,855,436.00</td>\n    </tr>\n    <tr>\n      <th>4</th>\n      <td>30/08/2021</td>\n      <td>730.91</td>\n      <td>18,604,220.00</td>\n    </tr>\n  </tbody>\n</table>\n</div>",
      "text/plain": "         Date  Last Price        Volume \n0   3/09/2021      733.57  15,271,045.00\n1   2/09/2021      732.39  12,796,739.00\n2   1/09/2021      734.09  13,204,335.00\n3  31/08/2021      735.72  20,855,436.00\n4  30/08/2021      730.91  18,604,220.00"
     },
     "execution_count": 13,
     "metadata": {},
     "output_type": "execute_result"
    }
   ],
   "source": [
    "tesla_dataframe.head()"
   ]
  },
  {
   "cell_type": "code",
   "execution_count": 14,
   "metadata": {},
   "outputs": [
    {
     "data": {
      "text/plain": "2688"
     },
     "execution_count": 14,
     "metadata": {},
     "output_type": "execute_result"
    }
   ],
   "source": [
    "len(tesla_dataframe)"
   ]
  }
 ],
 "metadata": {
  "kernelspec": {
   "display_name": "Python 3.8.8 64-bit ('PythonData': conda)",
   "name": "python388jvsc74a57bd0abd55cbd258d1d0519969bf83e4573c2aef1f2a7b9f7ee6c8f141277a53d5580"
  },
  "language_info": {
   "codemirror_mode": {
    "name": "ipython",
    "version": 3
   },
   "file_extension": ".py",
   "mimetype": "text/x-python",
   "name": "python",
   "nbconvert_exporter": "python",
   "pygments_lexer": "ipython3",
   "version": "3.8.8"
  },
  "orig_nbformat": 2
 },
 "nbformat": 4,
 "nbformat_minor": 2
}